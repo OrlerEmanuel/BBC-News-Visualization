{
 "cells": [
  {
   "cell_type": "code",
   "execution_count": 2,
   "id": "da887b1ccef0a7c7",
   "metadata": {
    "collapsed": false,
    "ExecuteTime": {
     "end_time": "2024-05-26T17:10:33.481982Z",
     "start_time": "2024-05-26T17:10:22.826974Z"
    }
   },
   "outputs": [],
   "source": [
    "from bertopic import BERTopic\n",
    "from datetime import datetime\n",
    "from bertopic.vectorizers import ClassTfidfTransformer\n",
    "import pandas as pd"
   ]
  },
  {
   "cell_type": "code",
   "execution_count": 6,
   "id": "e96a96637eda4ae1",
   "metadata": {
    "collapsed": false,
    "ExecuteTime": {
     "end_time": "2024-05-26T17:16:01.941936Z",
     "start_time": "2024-05-26T17:16:01.760151Z"
    }
   },
   "outputs": [
    {
     "name": "stdout",
     "output_type": "stream",
     "text": [
      "<class 'pandas.core.frame.DataFrame'>\n",
      "RangeIndex: 33819 entries, 0 to 33818\n",
      "Data columns (total 5 columns):\n",
      " #   Column       Non-Null Count  Dtype \n",
      "---  ------       --------------  ----- \n",
      " 0   title        33819 non-null  object\n",
      " 1   pubDate      33819 non-null  object\n",
      " 2   guid         33819 non-null  object\n",
      " 3   link         33819 non-null  object\n",
      " 4   description  33819 non-null  object\n",
      "dtypes: object(5)\n",
      "memory usage: 1.3+ MB\n"
     ]
    }
   ],
   "source": [
    "df = pd.read_csv('../../Datasets/bbc_news.csv')\n",
    "df.info()"
   ]
  },
  {
   "cell_type": "code",
   "execution_count": 24,
   "id": "f03917304cf2264d",
   "metadata": {
    "ExecuteTime": {
     "end_time": "2024-05-26T16:54:42.885575Z",
     "start_time": "2024-05-26T16:51:46.043705Z"
    },
    "collapsed": false
   },
   "outputs": [],
   "source": [
    "%%capture\n",
    "ctfidfModel = ClassTfidfTransformer(reduce_frequent_words=True)\n",
    "topicModel = BERTopic(min_topic_size = 100, ctfidf_model=ctfidfModel)\n",
    "docs = df['title'] + ' ' + df['description']\n",
    "topics, probs = topicModel.fit_transform(docs)"
   ]
  },
  {
   "cell_type": "code",
   "execution_count": 25,
   "id": "a8767007a264fe0",
   "metadata": {
    "ExecuteTime": {
     "end_time": "2024-05-26T16:54:42.894650Z",
     "start_time": "2024-05-26T16:54:42.889536Z"
    },
    "collapsed": false
   },
   "outputs": [],
   "source": [
    "def convertDateFormat(dateStr):\n",
    "    datetimeDate = datetime.strptime(dateStr, '%a, %d %b %Y %H:%M:%S %Z')\n",
    "    return datetimeDate.strftime('%m/%Y')"
   ]
  },
  {
   "cell_type": "code",
   "execution_count": 26,
   "id": "37f39f5827118392",
   "metadata": {
    "ExecuteTime": {
     "end_time": "2024-05-26T16:54:42.901219Z",
     "start_time": "2024-05-26T16:54:42.896662Z"
    },
    "collapsed": false
   },
   "outputs": [],
   "source": [
    "def getTopicName(topicNumber):\n",
    "    topicTerms = topicModel.get_topic(topicNumber)\n",
    "    topTerms = [term[0] for term in topicTerms[:3]]\n",
    "    return str(topicNumber)+' '+' '.join(topTerms)"
   ]
  },
  {
   "cell_type": "code",
   "execution_count": 27,
   "id": "3f7f8c7c8c6262da",
   "metadata": {
    "ExecuteTime": {
     "end_time": "2024-05-26T16:54:43.509536Z",
     "start_time": "2024-05-26T16:54:42.902227Z"
    },
    "collapsed": false
   },
   "outputs": [
    {
     "name": "stdout",
     "output_type": "stream",
     "text": [
      "<class 'pandas.core.frame.DataFrame'>\n",
      "RangeIndex: 33819 entries, 0 to 33818\n",
      "Data columns (total 10 columns):\n",
      " #   Column        Non-Null Count  Dtype  \n",
      "---  ------        --------------  -----  \n",
      " 0   title         33819 non-null  object \n",
      " 1   pubDate       33819 non-null  object \n",
      " 2   guid          33819 non-null  object \n",
      " 3   link          33819 non-null  object \n",
      " 4   description   33819 non-null  object \n",
      " 5   shortPubDate  33819 non-null  object \n",
      " 6   topics        33819 non-null  int64  \n",
      " 7   topicName     33819 non-null  object \n",
      " 8   probs         33819 non-null  float64\n",
      " 9   docs          33819 non-null  object \n",
      "dtypes: float64(1), int64(1), object(8)\n",
      "memory usage: 2.6+ MB\n"
     ]
    }
   ],
   "source": [
    "df['shortPubDate'] = df['pubDate'].apply(convertDateFormat)\n",
    "df['topics'] = topics\n",
    "df['topicName'] = df['topics'].apply(getTopicName)\n",
    "df['probs']  = probs\n",
    "df['docs'] = docs\n",
    "df.info()"
   ]
  },
  {
   "cell_type": "code",
   "execution_count": 28,
   "id": "344dfda0420e7e57",
   "metadata": {
    "ExecuteTime": {
     "end_time": "2024-05-26T16:54:43.838331Z",
     "start_time": "2024-05-26T16:54:43.510542Z"
    },
    "collapsed": false
   },
   "outputs": [],
   "source": [
    "df.to_csv('./Datasets/bbc_news_preprocessed.csv', index=False)"
   ]
  }
 ],
 "metadata": {
  "kernelspec": {
   "display_name": "Python 3 (ipykernel)",
   "language": "python",
   "name": "python3"
  },
  "language_info": {
   "codemirror_mode": {
    "name": "ipython",
    "version": 3
   },
   "file_extension": ".py",
   "mimetype": "text/x-python",
   "name": "python",
   "nbconvert_exporter": "python",
   "pygments_lexer": "ipython3",
   "version": "3.12.0"
  }
 },
 "nbformat": 4,
 "nbformat_minor": 5
}
