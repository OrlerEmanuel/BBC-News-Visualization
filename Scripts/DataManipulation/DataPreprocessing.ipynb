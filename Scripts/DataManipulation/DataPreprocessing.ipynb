{
 "cells": [
  {
   "cell_type": "code",
   "execution_count": 40,
   "id": "da887b1ccef0a7c7",
   "metadata": {
    "collapsed": false,
    "ExecuteTime": {
     "end_time": "2024-05-27T18:13:32.814084Z",
     "start_time": "2024-05-27T18:13:32.808696Z"
    }
   },
   "outputs": [],
   "source": [
    "from bertopic import BERTopic\n",
    "from datetime import datetime\n",
    "from bertopic.vectorizers import ClassTfidfTransformer\n",
    "import pandas as pd"
   ]
  },
  {
   "cell_type": "code",
   "execution_count": 41,
   "id": "e96a96637eda4ae1",
   "metadata": {
    "collapsed": false,
    "ExecuteTime": {
     "end_time": "2024-05-27T18:13:33.002278Z",
     "start_time": "2024-05-27T18:13:32.823191Z"
    }
   },
   "outputs": [
    {
     "name": "stdout",
     "output_type": "stream",
     "text": [
      "<class 'pandas.core.frame.DataFrame'>\n",
      "RangeIndex: 33819 entries, 0 to 33818\n",
      "Data columns (total 5 columns):\n",
      " #   Column       Non-Null Count  Dtype \n",
      "---  ------       --------------  ----- \n",
      " 0   title        33819 non-null  object\n",
      " 1   pubDate      33819 non-null  object\n",
      " 2   guid         33819 non-null  object\n",
      " 3   link         33819 non-null  object\n",
      " 4   description  33819 non-null  object\n",
      "dtypes: object(5)\n",
      "memory usage: 1.3+ MB\n"
     ]
    }
   ],
   "source": [
    "df = pd.read_csv('../../Datasets/bbc_news.csv')\n",
    "df.info()"
   ]
  },
  {
   "cell_type": "code",
   "execution_count": 42,
   "id": "f03917304cf2264d",
   "metadata": {
    "collapsed": false,
    "ExecuteTime": {
     "end_time": "2024-05-27T18:16:58.651280Z",
     "start_time": "2024-05-27T18:13:33.003284Z"
    }
   },
   "outputs": [],
   "source": [
    "%%capture\n",
    "ctfidfModel = ClassTfidfTransformer(reduce_frequent_words=True)\n",
    "topicModel = BERTopic(min_topic_size = 100, ctfidf_model=ctfidfModel)\n",
    "docs = df['title'] + ' ' + df['description']\n",
    "topics, probs = topicModel.fit_transform(docs)"
   ]
  },
  {
   "cell_type": "code",
   "execution_count": 43,
   "id": "37f39f5827118392",
   "metadata": {
    "collapsed": false,
    "ExecuteTime": {
     "end_time": "2024-05-27T18:16:58.659245Z",
     "start_time": "2024-05-27T18:16:58.655288Z"
    }
   },
   "outputs": [],
   "source": [
    "def getTopicName(topicNumber):\n",
    "    topicTerms = topicModel.get_topic(topicNumber)\n",
    "    topTerms = [term[0] for term in topicTerms[:3]]\n",
    "    return str(topicNumber)+' '+' '.join(topTerms)"
   ]
  },
  {
   "cell_type": "code",
   "execution_count": null,
   "id": "3f7f8c7c8c6262da",
   "metadata": {
    "collapsed": false
   },
   "outputs": [],
   "source": [
    "df['pubDate'] = pd.to_datetime(df['pubDate'], format='%a, %d %b %Y %H:%M:%S %Z')\n",
    "df['shortPubDate'] = df['pubDate'].apply(lambda x: datetime(x.year, x.month, 1))\n",
    "df['topics'] = topics\n",
    "df['topicName'] = df['topics'].apply(getTopicName)\n",
    "df['probs']  = probs\n",
    "df['docs'] = docs"
   ]
  },
  {
   "cell_type": "code",
   "outputs": [
    {
     "name": "stdout",
     "output_type": "stream",
     "text": [
      "<class 'pandas.core.frame.DataFrame'>\n",
      "Index: 22144 entries, 56 to 33048\n",
      "Data columns (total 10 columns):\n",
      " #   Column        Non-Null Count  Dtype              \n",
      "---  ------        --------------  -----              \n",
      " 0   title         22144 non-null  object             \n",
      " 1   pubDate       22144 non-null  datetime64[ns, UTC]\n",
      " 2   guid          22144 non-null  object             \n",
      " 3   link          22144 non-null  object             \n",
      " 4   description   22144 non-null  object             \n",
      " 5   shortPubDate  22144 non-null  datetime64[ns]     \n",
      " 6   topics        22144 non-null  int64              \n",
      " 7   topicName     22144 non-null  object             \n",
      " 8   probs         22144 non-null  float64            \n",
      " 9   docs          22144 non-null  object             \n",
      "dtypes: datetime64[ns, UTC](1), datetime64[ns](1), float64(1), int64(1), object(6)\n",
      "memory usage: 1.9+ MB\n"
     ]
    }
   ],
   "source": [
    "beforeDate = pd.to_datetime('03/2022', format='%m/%Y')\n",
    "df = df[df['shortPubDate'] >= beforeDate].sort_values('shortPubDate', ascending=True)\n",
    "df = df[df['topics'] != -1]\n",
    "df.info()"
   ],
   "metadata": {
    "collapsed": false,
    "ExecuteTime": {
     "end_time": "2024-05-27T18:23:00.194756Z",
     "start_time": "2024-05-27T18:23:00.148123Z"
    }
   },
   "id": "29ad264d938ed81b",
   "execution_count": 57
  },
  {
   "cell_type": "code",
   "execution_count": 59,
   "id": "344dfda0420e7e57",
   "metadata": {
    "collapsed": false,
    "ExecuteTime": {
     "end_time": "2024-05-27T18:24:13.310218Z",
     "start_time": "2024-05-27T18:24:13.008631Z"
    }
   },
   "outputs": [],
   "source": [
    "df.to_csv('../../Datasets/bbc_news_preprocessed.csv', index=False)"
   ]
  }
 ],
 "metadata": {
  "kernelspec": {
   "display_name": "Python 3 (ipykernel)",
   "language": "python",
   "name": "python3"
  },
  "language_info": {
   "codemirror_mode": {
    "name": "ipython",
    "version": 3
   },
   "file_extension": ".py",
   "mimetype": "text/x-python",
   "name": "python",
   "nbconvert_exporter": "python",
   "pygments_lexer": "ipython3",
   "version": "3.12.0"
  }
 },
 "nbformat": 4,
 "nbformat_minor": 5
}
