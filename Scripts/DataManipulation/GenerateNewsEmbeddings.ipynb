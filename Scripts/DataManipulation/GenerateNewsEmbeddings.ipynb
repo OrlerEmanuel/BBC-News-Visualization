{
 "cells": [
  {
   "cell_type": "code",
   "execution_count": 1,
   "id": "initial_id",
   "metadata": {
    "ExecuteTime": {
     "end_time": "2024-05-27T18:25:01.501905Z",
     "start_time": "2024-05-27T18:24:52.422450Z"
    }
   },
   "outputs": [],
   "source": [
    "%%capture\n",
    "import pandas as pd\n",
    "from sentence_transformers import SentenceTransformer\n",
    "from umap import UMAP"
   ]
  },
  {
   "cell_type": "code",
   "execution_count": 3,
   "id": "a801faf0f3e86081",
   "metadata": {
    "collapsed": false,
    "ExecuteTime": {
     "end_time": "2024-05-27T18:25:15.070761Z",
     "start_time": "2024-05-27T18:25:14.894343Z"
    }
   },
   "outputs": [
    {
     "name": "stdout",
     "output_type": "stream",
     "text": [
      "<class 'pandas.core.frame.DataFrame'>\n",
      "RangeIndex: 22144 entries, 0 to 22143\n",
      "Data columns (total 10 columns):\n",
      " #   Column        Non-Null Count  Dtype  \n",
      "---  ------        --------------  -----  \n",
      " 0   title         22144 non-null  object \n",
      " 1   pubDate       22144 non-null  object \n",
      " 2   guid          22144 non-null  object \n",
      " 3   link          22144 non-null  object \n",
      " 4   description   22144 non-null  object \n",
      " 5   shortPubDate  22144 non-null  object \n",
      " 6   topics        22144 non-null  int64  \n",
      " 7   topicName     22144 non-null  object \n",
      " 8   probs         22144 non-null  float64\n",
      " 9   docs          22144 non-null  object \n",
      "dtypes: float64(1), int64(1), object(8)\n",
      "memory usage: 1.7+ MB\n"
     ]
    }
   ],
   "source": [
    "df = pd.read_csv('../../Datasets/bbc_news_preprocessed.csv', )\n",
    "df.info()"
   ]
  },
  {
   "cell_type": "code",
   "outputs": [],
   "source": [
    "%%capture\n",
    "sentenceModel = SentenceTransformer(\"all-MiniLM-L6-v2\")\n",
    "embeddings = sentenceModel.encode(df['docs'], show_progress_bar=False)\n",
    "reducedEmbeddings = UMAP(n_neighbors=10, n_components=2, min_dist=0.0, metric='euclidean',).fit_transform(embeddings)"
   ],
   "metadata": {
    "collapsed": false,
    "ExecuteTime": {
     "end_time": "2024-05-27T18:27:32.351947Z",
     "start_time": "2024-05-27T18:25:18.148439Z"
    }
   },
   "id": "8ddc57c2cb84682c",
   "execution_count": 4
  },
  {
   "cell_type": "code",
   "execution_count": 5,
   "id": "c9b02a547d8584c2",
   "metadata": {
    "collapsed": false,
    "ExecuteTime": {
     "end_time": "2024-05-27T18:27:32.358287Z",
     "start_time": "2024-05-27T18:27:32.353961Z"
    }
   },
   "outputs": [],
   "source": [
    "df['x'] = reducedEmbeddings[:, 0]\n",
    "df['y'] = reducedEmbeddings[:, 1]"
   ]
  },
  {
   "cell_type": "code",
   "outputs": [
    {
     "name": "stdout",
     "output_type": "stream",
     "text": [
      "<class 'pandas.core.frame.DataFrame'>\n",
      "RangeIndex: 22144 entries, 0 to 22143\n",
      "Data columns (total 12 columns):\n",
      " #   Column        Non-Null Count  Dtype  \n",
      "---  ------        --------------  -----  \n",
      " 0   title         22144 non-null  object \n",
      " 1   pubDate       22144 non-null  object \n",
      " 2   guid          22144 non-null  object \n",
      " 3   link          22144 non-null  object \n",
      " 4   description   22144 non-null  object \n",
      " 5   shortPubDate  22144 non-null  object \n",
      " 6   topics        22144 non-null  int64  \n",
      " 7   topicName     22144 non-null  object \n",
      " 8   probs         22144 non-null  float64\n",
      " 9   docs          22144 non-null  object \n",
      " 10  x             22144 non-null  float32\n",
      " 11  y             22144 non-null  float32\n",
      "dtypes: float32(2), float64(1), int64(1), object(8)\n",
      "memory usage: 1.9+ MB\n"
     ]
    }
   ],
   "source": [
    "df.info()"
   ],
   "metadata": {
    "collapsed": false,
    "ExecuteTime": {
     "end_time": "2024-05-27T18:27:32.376444Z",
     "start_time": "2024-05-27T18:27:32.359291Z"
    }
   },
   "id": "19697b5075cd19b6",
   "execution_count": 6
  },
  {
   "cell_type": "code",
   "outputs": [],
   "source": [
    "df.to_csv('../../Datasets/bbc_news_preprocessed_UMAP.csv',index=False)"
   ],
   "metadata": {
    "collapsed": false,
    "ExecuteTime": {
     "end_time": "2024-05-27T18:27:32.636228Z",
     "start_time": "2024-05-27T18:27:32.379380Z"
    }
   },
   "id": "96fcd4dd21c7a37f",
   "execution_count": 7
  }
 ],
 "metadata": {
  "kernelspec": {
   "display_name": "Python 3 (ipykernel)",
   "language": "python",
   "name": "python3"
  },
  "language_info": {
   "codemirror_mode": {
    "name": "ipython",
    "version": 3
   },
   "file_extension": ".py",
   "mimetype": "text/x-python",
   "name": "python",
   "nbconvert_exporter": "python",
   "pygments_lexer": "ipython3",
   "version": "3.12.0"
  }
 },
 "nbformat": 4,
 "nbformat_minor": 5
}
