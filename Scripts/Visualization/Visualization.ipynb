{
 "cells": [
  {
   "cell_type": "code",
   "execution_count": 1,
   "id": "88bae66419422bda",
   "metadata": {
    "collapsed": false,
    "ExecuteTime": {
     "end_time": "2024-06-04T13:49:30.190652Z",
     "start_time": "2024-06-04T13:49:27.730875Z"
    }
   },
   "outputs": [],
   "source": [
    "from dash import dcc, html\n",
    "from dash.dependencies import Input, Output\n",
    "from wordcloud import WordCloud\n",
    "\n",
    "import plotly.graph_objects as go\n",
    "import plotly.express as px\n",
    "import pandas as pd\n",
    "import numpy as np\n",
    "import base64\n",
    "import dash\n",
    "import io"
   ]
  },
  {
   "cell_type": "code",
   "outputs": [],
   "source": [
    "df = pd.read_csv(\"../../Datasets/bbc_news_preprocessed_UMAP.csv\")\n",
    "docs = list(df['docs'])"
   ],
   "metadata": {
    "collapsed": false,
    "ExecuteTime": {
     "end_time": "2024-06-04T13:49:30.472988Z",
     "start_time": "2024-06-04T13:49:30.192663Z"
    }
   },
   "id": "b404ebfb6f331ee2",
   "execution_count": 2
  },
  {
   "cell_type": "code",
   "outputs": [],
   "source": [
    "def createUMAP(dataFrame):\n",
    "    fig = go.Figure()\n",
    "\n",
    "    uniqueTopics = np.sort(dataFrame['topics'].unique())\n",
    "    colors = {topic: f\"rgba({i * 30 % 255}, {(i * 60 + 100) % 255}, {(i * 90 + 150) % 255}, 0.6)\" for i, topic in enumerate(uniqueTopics)}\n",
    "    \n",
    "    centroids = df[['x','y','topicName']].groupby('topicName').mean()\n",
    "\n",
    "    for topic in uniqueTopics:\n",
    "        topicData = dataFrame[dataFrame['topics'] == topic]\n",
    "        fig.add_trace(go.Scattergl(\n",
    "            x=topicData['x'],\n",
    "            y=topicData['y'],\n",
    "            mode='markers',\n",
    "            hovertext=topicData['title'],\n",
    "            hoverinfo=\"text\",\n",
    "            name=topicData['topicName'].iloc[0],\n",
    "            showlegend=True,\n",
    "            marker=dict(color=colors[topic])\n",
    "        ))\n",
    "    \n",
    "    for row in centroids.itertuples():\n",
    "        fig.add_annotation(\n",
    "            x=row[1], y=row[2],\n",
    "            text=row[0],\n",
    "            showarrow=False,\n",
    "            font=dict(size=10, color='black')\n",
    "        )\n",
    "\n",
    "    fig.update_layout(\n",
    "        template=\"simple_white\",\n",
    "        title={\n",
    "            'text': \"Documents and Topics\",\n",
    "            'x': 0.5,\n",
    "            'font':{'size':15}\n",
    "        },\n",
    "    ) \n",
    "    \n",
    "    fig.update_xaxes(visible=False)\n",
    "    fig.update_yaxes(visible=False)\n",
    "    \n",
    "    return fig"
   ],
   "metadata": {
    "collapsed": false,
    "ExecuteTime": {
     "end_time": "2024-06-04T13:49:30.480810Z",
     "start_time": "2024-06-04T13:49:30.474002Z"
    }
   },
   "id": "d38318b3c7429f53",
   "execution_count": 3
  },
  {
   "cell_type": "code",
   "outputs": [],
   "source": [
    "def createHistogram(data, title):\n",
    "    fig = px.histogram(\n",
    "        data,\n",
    "        x=\"shortPubDate\",\n",
    "        title=title,\n",
    "        labels={\n",
    "            \"shortPubDate\": \"Publication Date (Month)\",\n",
    "            \"amount\": \"Document Count\"\n",
    "        },\n",
    "        color_discrete_sequence=['red']\n",
    "    )\n",
    "    fig.update_layout(\n",
    "        template=\"simple_white\",\n",
    "        xaxis_title=\"Publication Date (Month)\",\n",
    "        yaxis_title=\"Document Count\",\n",
    "        font=dict(size=10, color='black'),\n",
    "        title_x=0.5\n",
    "    )\n",
    "    fig.update_traces(\n",
    "        hovertemplate=\"<br>\".join([\n",
    "            \"Publication Date: %{x}\",\n",
    "            \"Document Count: %{y}\",\n",
    "        ]),\n",
    "    )\n",
    "    return fig"
   ],
   "metadata": {
    "collapsed": false,
    "ExecuteTime": {
     "end_time": "2024-06-04T14:04:17.810672Z",
     "start_time": "2024-06-04T14:04:17.801762Z"
    }
   },
   "id": "56ff667747bc5b19",
   "execution_count": 12
  },
  {
   "cell_type": "code",
   "outputs": [],
   "source": [
    "def createWordCloud(topicName):\n",
    "    topicNumber = df[df['topicName'] == topicName]['topics'].iat[0]\n",
    "    filtered_df = df[df['topics'] == topicNumber]\n",
    "    textDocuments = '\\n'.join(filtered_df['docs'])\n",
    "    wc = WordCloud(background_color='white',width=650,height=325).generate(textDocuments)\n",
    "    return wc"
   ],
   "metadata": {
    "collapsed": false,
    "ExecuteTime": {
     "end_time": "2024-06-04T13:49:30.494695Z",
     "start_time": "2024-06-04T13:49:30.490381Z"
    }
   },
   "id": "f8e35fc0db8fd48",
   "execution_count": 5
  },
  {
   "cell_type": "code",
   "outputs": [],
   "source": [
    "def encodeImage(image_file):\n",
    "    with open(image_file, 'rb') as f:\n",
    "        encodedImage = base64.b64encode(f.read()).decode()\n",
    "    return f\"data:image/png;base64,{encodedImage}\""
   ],
   "metadata": {
    "collapsed": false,
    "ExecuteTime": {
     "end_time": "2024-06-04T13:49:30.500209Z",
     "start_time": "2024-06-04T13:49:30.495708Z"
    }
   },
   "id": "2df13c3e80f237bd",
   "execution_count": 6
  },
  {
   "cell_type": "code",
   "outputs": [
    {
     "data": {
      "text/plain": "<IPython.lib.display.IFrame at 0x26eb1ae76e0>",
      "text/html": "\n        <iframe\n            width=\"100%\"\n            height=\"650\"\n            src=\"http://127.0.0.1:8050/\"\n            frameborder=\"0\"\n            allowfullscreen\n            \n        ></iframe>\n        "
     },
     "metadata": {},
     "output_type": "display_data"
    }
   ],
   "source": [
    "umap_fig = createUMAP(df)\n",
    "app = dash.Dash(__name__)\n",
    "currentTopic = ''\n",
    "\n",
    "defaultImageSrc = encodeImage('../../Images/BBCNewsLogo.png')\n",
    "\n",
    "app.layout = html.Div([\n",
    "    html.Div([\n",
    "        dcc.Graph(id='umap-graph', figure=umap_fig, style={'flex-basis': '60%', 'height': '100%'}),\n",
    "        html.Div([\n",
    "            html.Div([\n",
    "                html.P(id='wc-title', style={'textAlign': 'center', 'fontFamily': 'Arial', 'fontSize': '12', 'color': 'black', 'fontWeight': 'normal'}),\n",
    "                html.Img(id='image_wc', style={'height': 'calc(100% - 40px)', 'width': '100%'})\n",
    "            ], style={'height': '50%', 'display': 'flex', 'flexDirection': 'column', 'alignItems': 'center'}),\n",
    "            dcc.Graph(id='histogram', style={'height': '50%'})\n",
    "            \n",
    "        ], style={'flex-basis': '40%', 'height': '100%', 'display': 'flex', 'flexDirection': 'column'})\n",
    "    ], style={'display': 'flex', 'flexDirection': 'row', 'width': '100vw', 'height': '100vh'})\n",
    "])\n",
    "\n",
    "@app.callback(\n",
    "    [Output('histogram', 'figure'),\n",
    "     Output('wc-title', 'children'),\n",
    "     Output('image_wc', 'src')],\n",
    "    [Input('umap-graph', 'clickData')]\n",
    ")\n",
    "def displayInfo(clickData):\n",
    "    if clickData is None:\n",
    "        histogram = createHistogram(df, \"Document Count by Month - All Topics\")\n",
    "        wcTitle = \"\"\n",
    "        wcSrc = defaultImageSrc\n",
    "    else:\n",
    "        clickTitle = clickData['points'][0]['hovertext']\n",
    "        topicName = df[df['title'] == clickTitle]['topicName'].iat[0]\n",
    "        filtered_df = df[df['topicName'] == topicName]\n",
    "\n",
    "        histogram = createHistogram(\n",
    "            filtered_df.sort_values(by='shortPubDate'),\n",
    "            f\"Document Count by Month - {topicName}\"\n",
    "        )\n",
    "        \n",
    "        wc = createWordCloud(topicName)\n",
    "        wc_image = io.BytesIO()\n",
    "        wc.to_image().save(wc_image, format='PNG')\n",
    "        wc_image.seek(0)\n",
    "        wcSrc = 'data:image/png;base64,{}'.format(base64.b64encode(wc_image.getvalue()).decode())\n",
    "        wcTitle = f\"Word Cloud - {topicName}\"\n",
    "    \n",
    "    return histogram, wcTitle, wcSrc\n",
    "\n",
    "if __name__ == '__main__':\n",
    "    app.run_server(debug=False)"
   ],
   "metadata": {
    "collapsed": true,
    "ExecuteTime": {
     "end_time": "2024-06-04T14:05:23.023138Z",
     "start_time": "2024-06-04T14:05:22.142300Z"
    }
   },
   "id": "initial_id",
   "execution_count": 14
  },
  {
   "cell_type": "code",
   "outputs": [],
   "source": [],
   "metadata": {
    "collapsed": false,
    "ExecuteTime": {
     "end_time": "2024-06-04T13:49:31.009982Z",
     "start_time": "2024-06-04T13:49:31.006915Z"
    }
   },
   "id": "afeca3e8b1cb5d0a",
   "execution_count": 7
  }
 ],
 "metadata": {
  "kernelspec": {
   "display_name": "Python 3",
   "language": "python",
   "name": "python3"
  },
  "language_info": {
   "codemirror_mode": {
    "name": "ipython",
    "version": 2
   },
   "file_extension": ".py",
   "mimetype": "text/x-python",
   "name": "python",
   "nbconvert_exporter": "python",
   "pygments_lexer": "ipython2",
   "version": "2.7.6"
  }
 },
 "nbformat": 4,
 "nbformat_minor": 5
}
