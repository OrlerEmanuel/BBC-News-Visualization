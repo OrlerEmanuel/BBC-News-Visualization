{
 "cells": [
  {
   "cell_type": "code",
   "execution_count": null,
   "id": "88bae66419422bda",
   "metadata": {
    "collapsed": false
   },
   "outputs": [],
   "source": [
    "import dash\n",
    "from dash import dcc, html\n",
    "from dash.dependencies import Input, Output\n",
    "import plotly.express as px\n",
    "import plotly.graph_objects as go\n",
    "import pandas as pd\n",
    "import numpy as np"
   ]
  },
  {
   "cell_type": "code",
   "outputs": [],
   "source": [
    "df = pd.read_csv(\"../../Datasets/bbc_news_preprocessed_UMAP.csv\")\n",
    "docs = list(df['docs'])"
   ],
   "metadata": {
    "collapsed": false
   },
   "id": "b404ebfb6f331ee2"
  },
  {
   "cell_type": "code",
   "outputs": [
    {
     "name": "stdout",
     "output_type": "stream",
     "text": [
      "<class 'pandas.core.frame.DataFrame'>\n",
      "RangeIndex: 22144 entries, 0 to 22143\n",
      "Data columns (total 12 columns):\n",
      " #   Column        Non-Null Count  Dtype  \n",
      "---  ------        --------------  -----  \n",
      " 0   title         22144 non-null  object \n",
      " 1   pubDate       22144 non-null  object \n",
      " 2   guid          22144 non-null  object \n",
      " 3   link          22144 non-null  object \n",
      " 4   description   22144 non-null  object \n",
      " 5   shortPubDate  22144 non-null  object \n",
      " 6   topics        22144 non-null  int64  \n",
      " 7   topicName     22144 non-null  object \n",
      " 8   probs         22144 non-null  float64\n",
      " 9   docs          22144 non-null  object \n",
      " 10  x             22144 non-null  float64\n",
      " 11  y             22144 non-null  float64\n",
      "dtypes: float64(3), int64(1), object(8)\n",
      "memory usage: 2.0+ MB\n"
     ]
    }
   ],
   "source": [
    "df.info()"
   ],
   "metadata": {
    "collapsed": false,
    "ExecuteTime": {
     "end_time": "2024-05-27T20:05:43.493434Z",
     "start_time": "2024-05-27T20:05:43.476493Z"
    }
   },
   "id": "27f518202af0e4ea",
   "execution_count": 53
  },
  {
   "cell_type": "code",
   "outputs": [],
   "source": [
    "def createUMAP(dataFrame):\n",
    "    fig = go.Figure()\n",
    "\n",
    "    uniqueTopics = np.sort(dataFrame['topics'].unique())\n",
    "    colors = {topic: f\"rgba({i * 30 % 255}, {(i * 60 + 100) % 255}, {(i * 90 + 150) % 255}, 0.6)\" for i, topic in enumerate(uniqueTopics)}\n",
    "    \n",
    "    centroids = df[['x','y','topicName']].groupby('topicName').mean()\n",
    "\n",
    "    for topic in uniqueTopics:\n",
    "        topicData = dataFrame[dataFrame['topics'] == topic]\n",
    "        fig.add_trace(go.Scattergl(\n",
    "            x=topicData['x'],\n",
    "            y=topicData['y'],\n",
    "            mode='markers',\n",
    "            hovertext=topicData['title'],\n",
    "            hoverinfo=\"text\",\n",
    "            name=topicData['topicName'].iloc[0],\n",
    "            showlegend=True,\n",
    "            marker=dict(color=colors[topic])\n",
    "        ))\n",
    "    \n",
    "    for row in centroids.itertuples():\n",
    "        fig.add_annotation(\n",
    "            x=row[1], y=row[2],\n",
    "            text=row[0],\n",
    "            showarrow=False,\n",
    "            font=dict(size=10, color='black')\n",
    "        )\n",
    "\n",
    "    fig.update_layout(\n",
    "        template=\"simple_white\",\n",
    "        title={\n",
    "            'text': \"Documents and Topics\",\n",
    "            'x': 0.5,\n",
    "            'font':{'size':15}\n",
    "        },\n",
    "    )\n",
    "    \n",
    "    \n",
    "    \n",
    "    fig.update_xaxes(visible=False)\n",
    "    fig.update_yaxes(visible=False)\n",
    "    \n",
    "    return fig"
   ],
   "metadata": {
    "collapsed": false,
    "ExecuteTime": {
     "end_time": "2024-05-27T20:15:00.978150Z",
     "start_time": "2024-05-27T20:15:00.969386Z"
    }
   },
   "id": "d38318b3c7429f53",
   "execution_count": 82
  },
  {
   "cell_type": "code",
   "outputs": [],
   "source": [
    "def createHistogram(data, title):\n",
    "    fig = px.histogram(\n",
    "        data,\n",
    "        x=\"shortPubDate\",\n",
    "        title=title,\n",
    "        labels={\n",
    "            \"shortPubDate\": \"Publication Date (Month)\",\n",
    "            \"amount\": \"Document Count\"\n",
    "        }\n",
    "    )\n",
    "    fig.update_layout(\n",
    "        template=\"simple_white\",\n",
    "        xaxis_title=\"Publication Date (Month)\",\n",
    "        yaxis_title=\"Document Count\",\n",
    "        font=dict(size=10, color='black'),\n",
    "        title_x=0.5\n",
    "    )\n",
    "    fig.update_traces(\n",
    "        hovertemplate=\"<br>\".join([\n",
    "            \"Publication Date: %{x}\",\n",
    "            \"Document Count: %{y}\",\n",
    "        ]),\n",
    "    )\n",
    "    return fig"
   ],
   "metadata": {
    "collapsed": false,
    "ExecuteTime": {
     "end_time": "2024-05-27T20:15:02.000260Z",
     "start_time": "2024-05-27T20:15:01.986622Z"
    }
   },
   "id": "56ff667747bc5b19",
   "execution_count": 83
  },
  {
   "cell_type": "code",
   "outputs": [
    {
     "data": {
      "text/plain": "<IPython.lib.display.IFrame at 0x18312654f20>",
      "text/html": "\n        <iframe\n            width=\"100%\"\n            height=\"650\"\n            src=\"http://127.0.0.1:8050/\"\n            frameborder=\"0\"\n            allowfullscreen\n            \n        ></iframe>\n        "
     },
     "metadata": {},
     "output_type": "display_data"
    }
   ],
   "source": [
    "umap_fig = createUMAP(df)\n",
    "app = dash.Dash(__name__)\n",
    "app.layout = html.Div([\n",
    "    html.Div([\n",
    "        dcc.Graph(id='umap-graph', figure=umap_fig, style={'flex-basis': '55%'}),\n",
    "        dcc.Graph(id='histogram', style={'flex-basis': '45%'})\n",
    "    ], style={'display': 'flex', 'flexDirection': 'row', 'width': '100vw', 'height': '100vh'})\n",
    "])\n",
    "\n",
    "@app.callback(\n",
    "    Output('histogram', 'figure'),\n",
    "    [Input('umap-graph', 'clickData')]\n",
    ")\n",
    "def displayHistogram(clickData):\n",
    "    if clickData is None:\n",
    "        return createHistogram(df, \"Document Count by Month - All Topics\")\n",
    "    \n",
    "    clickTitle = clickData['points'][0]['hovertext']\n",
    "    topicName = df[df['title'] == clickTitle]['topicName'].iat[0]\n",
    "    filtered_df = df[df['topicName'] == topicName]\n",
    "\n",
    "    return createHistogram(\n",
    "        filtered_df.sort_values(by='shortPubDate'),\n",
    "        f\"Document Count by Month - {topicName}\"\n",
    "    )\n",
    "\n",
    "if __name__ == '__main__':\n",
    "    app.run_server(debug=True)"
   ],
   "metadata": {
    "collapsed": true,
    "ExecuteTime": {
     "end_time": "2024-05-27T20:15:04.247104Z",
     "start_time": "2024-05-27T20:15:02.028270Z"
    }
   },
   "id": "initial_id",
   "execution_count": 84
  },
  {
   "cell_type": "code",
   "outputs": [],
   "source": [],
   "metadata": {
    "collapsed": false
   },
   "id": "3235692b4a4a1035"
  }
 ],
 "metadata": {
  "kernelspec": {
   "display_name": "Python 3",
   "language": "python",
   "name": "python3"
  },
  "language_info": {
   "codemirror_mode": {
    "name": "ipython",
    "version": 2
   },
   "file_extension": ".py",
   "mimetype": "text/x-python",
   "name": "python",
   "nbconvert_exporter": "python",
   "pygments_lexer": "ipython2",
   "version": "2.7.6"
  }
 },
 "nbformat": 4,
 "nbformat_minor": 5
}
