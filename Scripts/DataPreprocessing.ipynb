{
 "cells": [
  {
   "cell_type": "code",
   "outputs": [],
   "source": [
    "from bertopic import BERTopic\n",
    "from datetime import datetime\n",
    "from bertopic.vectorizers import ClassTfidfTransformer\n",
    "import pandas as pd"
   ],
   "metadata": {
    "collapsed": false,
    "ExecuteTime": {
     "end_time": "2024-05-26T16:15:17.616717Z",
     "start_time": "2024-05-26T16:14:59.278140Z"
    }
   },
   "id": "da887b1ccef0a7c7",
   "execution_count": 3
  },
  {
   "cell_type": "code",
   "outputs": [
    {
     "name": "stdout",
     "output_type": "stream",
     "text": [
      "<class 'pandas.core.frame.DataFrame'>\n",
      "RangeIndex: 33819 entries, 0 to 33818\n",
      "Data columns (total 5 columns):\n",
      " #   Column       Non-Null Count  Dtype \n",
      "---  ------       --------------  ----- \n",
      " 0   title        33819 non-null  object\n",
      " 1   pubDate      33819 non-null  object\n",
      " 2   guid         33819 non-null  object\n",
      " 3   link         33819 non-null  object\n",
      " 4   description  33819 non-null  object\n",
      "dtypes: object(5)\n",
      "memory usage: 1.3+ MB\n"
     ]
    }
   ],
   "source": [
    "df = pd.read_csv('Datasets/bbc_news.csv')\n",
    "df.info()"
   ],
   "metadata": {
    "collapsed": false,
    "ExecuteTime": {
     "end_time": "2024-05-26T16:15:37.828458Z",
     "start_time": "2024-05-26T16:15:37.612239Z"
    }
   },
   "id": "e96a96637eda4ae1",
   "execution_count": 4
  },
  {
   "cell_type": "code",
   "outputs": [],
   "source": [
    "%%capture\n",
    "ctfidfModel = ClassTfidfTransformer(reduce_frequent_words=True)\n",
    "topicModel = BERTopic(min_topic_size = 100, ctfidf_model=ctfidfModel)\n",
    "docs = df['title'] + ' ' + df['description']\n",
    "topics, probs = topicModel.fit_transform(docs)"
   ],
   "metadata": {
    "collapsed": false,
    "ExecuteTime": {
     "end_time": "2024-05-26T16:19:13.586151Z",
     "start_time": "2024-05-26T16:15:42.183085Z"
    }
   },
   "id": "f03917304cf2264d",
   "execution_count": 5
  },
  {
   "cell_type": "code",
   "outputs": [],
   "source": [
    "def convertDateFormat(dateStr):\n",
    "    datetimeDate = datetime.strptime(dateStr, '%a, %d %b %Y %H:%M:%S %Z')\n",
    "    return datetimeDate.strftime('%m/%Y')"
   ],
   "metadata": {
    "collapsed": false,
    "ExecuteTime": {
     "end_time": "2024-05-26T16:19:13.593502Z",
     "start_time": "2024-05-26T16:19:13.588169Z"
    }
   },
   "id": "a8767007a264fe0",
   "execution_count": 6
  },
  {
   "cell_type": "code",
   "outputs": [],
   "source": [
    "def getTopicName(topicNumber):\n",
    "    topicTerms = topicModel.get_topic(topicNumber)\n",
    "    topTerms = [term[0] for term in topicTerms[:3]]\n",
    "    return str(topicNumber)+' '+' '.join(topTerms)"
   ],
   "metadata": {
    "collapsed": false,
    "ExecuteTime": {
     "end_time": "2024-05-26T16:19:13.606056Z",
     "start_time": "2024-05-26T16:19:13.597531Z"
    }
   },
   "id": "37f39f5827118392",
   "execution_count": 7
  },
  {
   "cell_type": "code",
   "outputs": [
    {
     "name": "stdout",
     "output_type": "stream",
     "text": [
      "<class 'pandas.core.frame.DataFrame'>\n",
      "RangeIndex: 33819 entries, 0 to 33818\n",
      "Data columns (total 10 columns):\n",
      " #   Column        Non-Null Count  Dtype  \n",
      "---  ------        --------------  -----  \n",
      " 0   title         33819 non-null  object \n",
      " 1   pubDate       33819 non-null  object \n",
      " 2   guid          33819 non-null  object \n",
      " 3   link          33819 non-null  object \n",
      " 4   description   33819 non-null  object \n",
      " 5   shortPubDate  33819 non-null  object \n",
      " 6   topics        33819 non-null  int64  \n",
      " 7   topicName     33819 non-null  object \n",
      " 8   probs         33819 non-null  float64\n",
      " 9   docs          33819 non-null  object \n",
      "dtypes: float64(1), int64(1), object(8)\n",
      "memory usage: 2.6+ MB\n"
     ]
    }
   ],
   "source": [
    "df['shortPubDate'] = df['pubDate'].apply(convertDateFormat)\n",
    "df['topics'] = topics\n",
    "df['topicName'] = df['topics'].apply(getTopicName)\n",
    "df['probs']  = probs\n",
    "df['docs'] = docs\n",
    "df.info()"
   ],
   "metadata": {
    "collapsed": false,
    "ExecuteTime": {
     "end_time": "2024-05-26T16:19:14.039029Z",
     "start_time": "2024-05-26T16:19:13.610070Z"
    }
   },
   "id": "3f7f8c7c8c6262da",
   "execution_count": 8
  },
  {
   "cell_type": "code",
   "outputs": [],
   "source": [
    "df.to_csv('./Datasets/bbc_news_preprocessed.csv', index=False)"
   ],
   "metadata": {
    "collapsed": false,
    "ExecuteTime": {
     "end_time": "2024-05-26T16:32:00.924910Z",
     "start_time": "2024-05-26T16:32:00.545042Z"
    }
   },
   "id": "344dfda0420e7e57",
   "execution_count": 12
  }
 ],
 "metadata": {
  "kernelspec": {
   "display_name": "Python 3",
   "language": "python",
   "name": "python3"
  },
  "language_info": {
   "codemirror_mode": {
    "name": "ipython",
    "version": 2
   },
   "file_extension": ".py",
   "mimetype": "text/x-python",
   "name": "python",
   "nbconvert_exporter": "python",
   "pygments_lexer": "ipython2",
   "version": "2.7.6"
  }
 },
 "nbformat": 4,
 "nbformat_minor": 5
}
